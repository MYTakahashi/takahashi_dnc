{
  "nbformat": 4,
  "nbformat_minor": 0,
  "metadata": {
    "colab": {
      "provenance": [],
      "authorship_tag": "ABX9TyOGEaV6sgTnI7MzEQglGLL9",
      "include_colab_link": true
    },
    "kernelspec": {
      "name": "python3",
      "display_name": "Python 3"
    },
    "language_info": {
      "name": "python"
    }
  },
  "cells": [
    {
      "cell_type": "markdown",
      "metadata": {
        "id": "view-in-github",
        "colab_type": "text"
      },
      "source": [
        "<a href=\"https://colab.research.google.com/github/MYTakahashi/takahashi_dnc/blob/master/Case_3_Python.ipynb\" target=\"_parent\"><img src=\"https://colab.research.google.com/assets/colab-badge.svg\" alt=\"Open In Colab\"/></a>"
      ]
    },
    {
      "cell_type": "markdown",
      "source": [
        "Questão 1 - Sua empresa te passou uma lista com requisições de treinamentos (muitos repetidos), você tem que definir o cenário que melhor atenda os pedidos, o budget é de 150 moedas e você tem um dicionário que contém o nome do treinamento e o valor dele treinamentos = [{'treinamento':'Scrum','moedas':30}, {'treinamento':'Data Science','moedas':40}, {'treinamento':'Gestão de Projetos','moedas':50}, {'treinamento':'Marketing','moedas':30}, {'treinamento':'Cloud','moedas':20}, {'treinamento':'Blockchain','moedas':10}, {'treinamento':'Python','moedas':30}] pedidos = ['Scrum','Data Science','Gestão de Projetos','Marketing','Cloud','Python','Python','Python', 'Scrum','Data Science','Gestão de Projetos','Marketing','Data Science','Gestão de Projetos', 'Python','Marketing','Data Science','Gestão de Projetos','Data Science','Gestão de Projetos','Data Science']"
      ],
      "metadata": {
        "id": "UOPz_gWv_Zjt"
      }
    },
    {
      "cell_type": "code",
      "execution_count": null,
      "metadata": {
        "colab": {
          "base_uri": "https://localhost:8080/"
        },
        "id": "jbVFNJoe_P3S",
        "outputId": "9c02ac1d-66e4-4b8e-8b57-c445660952e5"
      },
      "outputs": [
        {
          "output_type": "stream",
          "name": "stdout",
          "text": [
            "['Cloud', 'Data Science', 'Gestão de Projetos', 'Marketing', 'Python', 'Scrum']\n",
            "Solicitações: 1 \n",
            "treinamento: Cloud\n",
            "Valor: 20\n",
            "Solicitações: 6 \n",
            "treinamento: Data Science\n",
            "Valor: 40\n",
            "Solicitações: 5 \n",
            "treinamento: Gestão de Projetos\n",
            "Valor: 50\n",
            "Solicitações: 3 \n",
            "treinamento: Marketing\n",
            "Valor: 30\n",
            "Solicitações: 4 \n",
            "treinamento: Python\n",
            "Valor: 30\n",
            "Solicitações: 2 \n",
            "treinamento: Scrum\n",
            "Valor: 30\n"
          ]
        }
      ],
      "source": [
        "treinamentos = [\n",
        "        {'treinamento':'Scrum','moedas':30},\n",
        "        {'treinamento':'Data Science','moedas':40},\n",
        "        {'treinamento':'Gestão de Projetos','moedas':50},\n",
        "        {'treinamento':'Marketing','moedas':30},\n",
        "        {'treinamento':'Cloud','moedas':20},\n",
        "        {'treinamento':'Blockchain','moedas':10},\n",
        "        {'treinamento':'Python','moedas':30}\n",
        "        ]\n",
        "pedidos = ['Scrum','Data Science','Gestão de Projetos','Marketing',\n",
        "           'Cloud','Python','Python','Python', 'Scrum','Data Science',\n",
        "           'Gestão de Projetos','Marketing','Data Science','Gestão de Projetos',\n",
        "           'Python','Marketing','Data Science','Gestão de Projetos',\n",
        "           'Data Science','Gestão de Projetos','Data Science']\n",
        "\n",
        "def get_value(x,b):\n",
        "  for a in x:\n",
        "    if a['treinamento'] in b:\n",
        "      print('Valor:', a['moedas'])\n",
        "      return a['moedas']\n",
        "\n",
        "ped = sorted(set(pedidos))\n",
        "print(ped)\n",
        "for a in ped:\n",
        "  print('Solicitações:',pedidos.count(a),'\\ntreinamento:', a)\n",
        "  valor = get_value(treinamentos,a)\n",
        "  for b in treinamentos:\n",
        "    if a == b['treinamento']:\n",
        "      b['total_treinamento']=pedidos.count(a)"
      ]
    },
    {
      "cell_type": "code",
      "source": [
        "budget = 150\n",
        "count = 6\n",
        "total = []\n",
        "while budget > 0:\n",
        "  for a in treinamentos:\n",
        "    qtd = a.get('total_treinamento')\n",
        "    if qtd == count:\n",
        "      print('treinamento',a['treinamento'],'comprado')\n",
        "      total.append(qtd)\n",
        "      budget = budget - a['moedas']\n",
        "      count = count - 1\n",
        "    else:\n",
        "      continue\n",
        "  \n",
        "print('Total de pedidos atendidos',sum(total),'representando',(sum(total)/len(pedidos)*100),'% de atendimento','\\nbudget no caixa:',budget)"
      ],
      "metadata": {
        "colab": {
          "base_uri": "https://localhost:8080/"
        },
        "id": "Nk5T9XuTo1Jq",
        "outputId": "e981bef5-809a-4c43-bbf6-5c8caed3b4c5"
      },
      "execution_count": null,
      "outputs": [
        {
          "output_type": "stream",
          "name": "stdout",
          "text": [
            "treinamento Data Science comprado\n",
            "treinamento Gestão de Projetos comprado\n",
            "treinamento Python comprado\n",
            "treinamento Marketing comprado\n",
            "Total de pedidos atendidos 18 representando 85.71428571428571 % de atendimento \n",
            "budget no caixa: 0\n"
          ]
        }
      ]
    }
  ]
}