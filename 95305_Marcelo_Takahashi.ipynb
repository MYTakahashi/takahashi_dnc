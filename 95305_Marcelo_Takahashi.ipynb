{
  "nbformat": 4,
  "nbformat_minor": 0,
  "metadata": {
    "colab": {
      "provenance": [],
      "authorship_tag": "ABX9TyN6/2C2Z9a3KF0MAaxeD+Ol",
      "include_colab_link": true
    },
    "kernelspec": {
      "name": "python3",
      "display_name": "Python 3"
    },
    "language_info": {
      "name": "python"
    }
  },
  "cells": [
    {
      "cell_type": "markdown",
      "metadata": {
        "id": "view-in-github",
        "colab_type": "text"
      },
      "source": [
        "<a href=\"https://colab.research.google.com/github/MYTakahashi/takahashi_dnc/blob/main/95305_Marcelo_Takahashi.ipynb\" target=\"_parent\"><img src=\"https://colab.research.google.com/assets/colab-badge.svg\" alt=\"Open In Colab\"/></a>"
      ]
    },
    {
      "cell_type": "markdown",
      "source": [
        "# Marcelo Yukio Takahashi - RID: 95305"
      ],
      "metadata": {
        "id": "BXhMyfXWlb6Q"
      }
    },
    {
      "cell_type": "markdown",
      "source": [
        "ETAPA 01\n",
        "\n",
        "Colete os nomes e idades de cada pessoa, crie uma lista para a Idade e uma para os nomes, em seguida monte os códigos das seguintes questões:\n",
        "\n",
        "a - Faça um for onde imprima a idade e nome de cada integrante do grupo.\n",
        "\n",
        "b - Plote um gráfico de barras com o nome de cada pessoa e a idade de cada uma delas\n"
      ],
      "metadata": {
        "id": "G_HTEa1LmJ_O"
      }
    },
    {
      "cell_type": "code",
      "execution_count": null,
      "metadata": {
        "id": "2jzBa6DUlPc3"
      },
      "outputs": [],
      "source": [
        "import matplotlib.pyplot as plt"
      ]
    },
    {
      "cell_type": "code",
      "source": [
        "nomes = ['Gustavo', 'Priscila', 'Luiz', 'Andre', 'Marcelo', 'Mateus', 'Caroline', 'Jorge', 'Leandro', 'Roberto', 'Christofer', 'Josivan']\n",
        "idades = [30,20,33,19,37,23,29,32,33,22,21,39]"
      ],
      "metadata": {
        "id": "Nr8QW4y2ouB5"
      },
      "execution_count": null,
      "outputs": []
    },
    {
      "cell_type": "code",
      "source": [
        "for nome, idade in zip(nomes,idades):\n",
        "  print(f'{nome} tem {idade} anos.')"
      ],
      "metadata": {
        "colab": {
          "base_uri": "https://localhost:8080/"
        },
        "id": "9r1h46hpp4U-",
        "outputId": "15bfc97f-3dc9-4f56-ec59-55d8de194535"
      },
      "execution_count": null,
      "outputs": [
        {
          "output_type": "stream",
          "name": "stdout",
          "text": [
            "Gustavo tem 30 anos.\n",
            "Priscila tem 20 anos.\n",
            "Luiz tem 33 anos.\n",
            "Andre tem 19 anos.\n",
            "Marcelo tem 37 anos.\n",
            "Mateus tem 23 anos.\n",
            "Caroline tem 29 anos.\n",
            "Jorge tem 32 anos.\n",
            "Leandro tem 33 anos.\n",
            "Roberto tem 22 anos.\n",
            "Christofer tem 21 anos.\n",
            "Josivan tem 39 anos.\n"
          ]
        }
      ]
    },
    {
      "cell_type": "code",
      "source": [
        "plt.figure(figsize=(15,7))\n",
        "plt.title('Grupo 12')\n",
        "plt.xlabel('Nome')\n",
        "plt.ylabel('Idade')\n",
        "plt.bar(nomes,idades)"
      ],
      "metadata": {
        "colab": {
          "base_uri": "https://localhost:8080/",
          "height": 475
        },
        "id": "BsYJj-QklbIy",
        "outputId": "95a6d2ea-5fb5-487f-c886-bddc154b0cd8"
      },
      "execution_count": null,
      "outputs": [
        {
          "output_type": "execute_result",
          "data": {
            "text/plain": [
              "<BarContainer object of 12 artists>"
            ]
          },
          "metadata": {},
          "execution_count": 59
        },
        {
          "output_type": "display_data",
          "data": {
            "text/plain": [
              "<Figure size 1080x504 with 1 Axes>"
            ],
            "image/png": "[encoded data removed]"
          },
          "metadata": {
            "needs_background": "light"
          }
        }
      ]
    },
    {
      "cell_type": "markdown",
      "source": [
        "ETAPA 02\n",
        "\n",
        "Colete o Salário que cada um quer ganhar e repita o mesmo procedimento anterior."
      ],
      "metadata": {
        "id": "f7tlo3RHrWuo"
      }
    },
    {
      "cell_type": "code",
      "source": [
        "salarios = [10000,15000,12500,17400,18300,19600,18400,17500,19700,21000,17850,19350]"
      ],
      "metadata": {
        "id": "iAHDSQaMrWUz"
      },
      "execution_count": null,
      "outputs": []
    },
    {
      "cell_type": "code",
      "source": [
        "for nome, salario in zip(nomes,salarios):\n",
        "  print(f'{nome} recebe R${salario},00 de salario.')"
      ],
      "metadata": {
        "colab": {
          "base_uri": "https://localhost:8080/"
        },
        "id": "UqN7AJwUrvjn",
        "outputId": "b630bb51-f006-4cf3-fca6-23a3490dda58"
      },
      "execution_count": null,
      "outputs": [
        {
          "output_type": "stream",
          "name": "stdout",
          "text": [
            "Gustavo recebe R$10000,00 de salario.\n",
            "Priscila recebe R$15000,00 de salario.\n",
            "Luiz recebe R$12500,00 de salario.\n",
            "Andre recebe R$17400,00 de salario.\n",
            "Marcelo recebe R$18300,00 de salario.\n",
            "Mateus recebe R$19600,00 de salario.\n",
            "Caroline recebe R$18400,00 de salario.\n",
            "Jorge recebe R$17500,00 de salario.\n",
            "Leandro recebe R$19700,00 de salario.\n",
            "Roberto recebe R$21000,00 de salario.\n",
            "Christofer recebe R$17850,00 de salario.\n",
            "Josivan recebe R$19350,00 de salario.\n"
          ]
        }
      ]
    },
    {
      "cell_type": "code",
      "source": [
        "plt.figure(figsize=(15,7))\n",
        "plt.title('Grupo 12')\n",
        "plt.xlabel('Nome')\n",
        "plt.ylabel('Salário')\n",
        "plt.bar(nomes,salarios)"
      ],
      "metadata": {
        "colab": {
          "base_uri": "https://localhost:8080/",
          "height": 475
        },
        "id": "FKdSRJs0r_kf",
        "outputId": "18260211-a4e5-41b9-ed8f-a52848e14eaf"
      },
      "execution_count": null,
      "outputs": [
        {
          "output_type": "execute_result",
          "data": {
            "text/plain": [
              "<BarContainer object of 12 artists>"
            ]
          },
          "metadata": {},
          "execution_count": 61
        },
        {
          "output_type": "display_data",
          "data": {
            "text/plain": [
              "<Figure size 1080x504 with 1 Axes>"
            ],
            "image/png": "[encoded data removed]"
          },
          "metadata": {
            "needs_background": "light"
          }
        }
      ]
    },
    {
      "cell_type": "markdown",
      "source": [
        "ETAPA 03\n",
        "\n",
        "Calcule a média de Idade e salário que seu grupo possui."
      ],
      "metadata": {
        "id": "mWu80KpxsThB"
      }
    },
    {
      "cell_type": "code",
      "source": [
        "soma_idade = 0\n",
        "soma_sal = 0\n",
        "\n",
        "for i in idades:\n",
        "    soma_idade += i\n",
        "\n",
        "for s in salarios:\n",
        "    soma_sal += s\n",
        "\n",
        "print(f'A média de idade dos participantes deste grupo é {soma_idade/len(idades):.0f} anos')\n",
        "print(f'A média salarial dos participantes deste grupo é R${soma_sal/len(salarios):.2f}')"
      ],
      "metadata": {
        "colab": {
          "base_uri": "https://localhost:8080/"
        },
        "id": "huhFmnX4sYTd",
        "outputId": "c6ab8f9d-9bd4-4231-8b4d-36caefd428c9"
      },
      "execution_count": null,
      "outputs": [
        {
          "output_type": "stream",
          "name": "stdout",
          "text": [
            "A média de idade dos participantes deste grupo é 28 anos\n",
            "A média salarial dos participantes deste grupo é R$17216.67\n"
          ]
        }
      ]
    }
  ]
}