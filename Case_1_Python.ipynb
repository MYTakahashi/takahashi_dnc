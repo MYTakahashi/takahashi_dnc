{
  "nbformat": 4,
  "nbformat_minor": 0,
  "metadata": {
    "colab": {
      "provenance": [],
      "authorship_tag": "ABX9TyOG5h6LzW/4GUTSkUxQFOyl",
      "include_colab_link": true
    },
    "kernelspec": {
      "name": "python3",
      "display_name": "Python 3"
    },
    "language_info": {
      "name": "python"
    }
  },
  "cells": [
    {
      "cell_type": "markdown",
      "metadata": {
        "id": "view-in-github",
        "colab_type": "text"
      },
      "source": [
        "<a href=\"https://colab.research.google.com/github/MYTakahashi/takahashi_dnc/blob/main/Case_1_Python.ipynb\" target=\"_parent\"><img src=\"https://colab.research.google.com/assets/colab-badge.svg\" alt=\"Open In Colab\"/></a>"
      ]
    },
    {
      "cell_type": "markdown",
      "source": [
        "Questão 1 - Uma empresa te enviou 3 listas, uma representa a largura, outra representa a altura e a terceira representa a área em m2 de determinado terreno, todas estão ordenadas entretanto tem alguns valores faltantes que precisam ser preenchidos, preencha os valores faltantes: Todos os terrenos dessa empresa são retangulares e você pode utilizar a fórmula abaixo: a = b. h (área = largura * altura) Utilize as listas abaixo: area = [200,'null',720,1500,1000,275,'null',1200,2400,'null'] altura = ['null',30,40,30,10,25,33,'null',12,20] largura = [20,20,'null',50,100,'null',30,100,200,10]"
      ],
      "metadata": {
        "id": "r44JWz-1k9Pi"
      }
    },
    {
      "cell_type": "code",
      "execution_count": null,
      "metadata": {
        "colab": {
          "base_uri": "https://localhost:8080/"
        },
        "id": "1dqeJOYxksR5",
        "outputId": "d9d14478-007a-41ef-dc3c-67c5d761059d"
      },
      "outputs": [
        {
          "output_type": "stream",
          "name": "stdout",
          "text": [
            "[200, 600, 720, 1500, 1000, 275, 990, 1200, 2400, 200]\n",
            "[10.0, 30, 40, 30, 10, 25, 33, 12.0, 12, 20]\n",
            "[20, 20, 18.0, 50, 100, 11.0, 30, 100, 200, 10]\n"
          ]
        }
      ],
      "source": [
        "area = [200,'null',720,1500,1000,275,'null',1200,2400,'null'] \n",
        "altura = ['null',30,40,30,10,25,33,'null',12,20] \n",
        "largura = [20,20,'null',50,100,'null',30,100,200,10]\n",
        "\n",
        "for w in range(0,len(area)):\n",
        "  if area[w] == 'null':\n",
        "    area[w] = altura[w] * largura[w]\n",
        "    area[w] = area[w]\n",
        "  if altura[w] == 'null':\n",
        "    altura[w] = area[w] / largura[w]\n",
        "    altura[w] = altura[w]  \n",
        "  if largura[w] == 'null':\n",
        "    largura[w] = area[w] / altura[w] \n",
        "    largura[w] = largura[w]\n",
        "\n",
        "print(area)\n",
        "print(altura)\n",
        "print(largura)"
      ]
    },
    {
      "cell_type": "markdown",
      "source": [
        "Questão 2 - Geralmente os Terrenos possuem maior altura ou largura? Utilize as listas completas geradas no exercício anterior"
      ],
      "metadata": {
        "id": "8SK0ZjKLqdU4"
      }
    },
    {
      "cell_type": "code",
      "source": [
        "alt = larg = 0\n",
        "for comp in range(0,len(altura)):\n",
        "  if altura[comp] > largura [comp]:\n",
        "    alt += 1\n",
        "  if altura[comp] < largura [comp]:\n",
        "    larg += 1\n",
        "\n",
        "if alt > larg:\n",
        "  print('Geralmente os Terrenos possuem maior altura.')\n",
        "elif alt < larg:\n",
        "  print('Geralmente os Terrenos possuem maior largura.')\n",
        "else:\n",
        "  print('A quantidade de Terrenos é igual em relação a altura ou largura.')\n",
        "\n",
        "print('Em relação a média das alturas e larguras dos terrenos temos que:')\n",
        "print(f'Os terrenos tem em média {sum(altura)/len(altura):.2f} m de altura e {sum(largura)/len(largura):.2f} m de largura.')"
      ],
      "metadata": {
        "colab": {
          "base_uri": "https://localhost:8080/"
        },
        "id": "G-lAcOS6qqfZ",
        "outputId": "7e81d199-67aa-4985-a471-b20be2d76980"
      },
      "execution_count": null,
      "outputs": [
        {
          "output_type": "stream",
          "name": "stdout",
          "text": [
            "A quantidade de Terrenos é igual em relação a altura ou largura.\n",
            "Em relação a média das alturas e larguras dos terrenos temos que:\n",
            "Os terrenos tem em média 22.20 m de altura e 55.90 m de largura.\n"
          ]
        }
      ]
    },
    {
      "cell_type": "markdown",
      "source": [
        "Questão 3 - Quantos metros a empresa tem no total e qual é a média de tamanho dos terrenos? Utilize as listas completas geradas no primeiro exercício"
      ],
      "metadata": {
        "id": "aVCSoxmRslfA"
      }
    },
    {
      "cell_type": "code",
      "source": [
        "print(f'A empresa possui um total de {sum(area)} m²')\n",
        "print(f'A média de tamanhdo dos terrenos que a empresa possui é de {sum(area) / len(area):.2f} m²')"
      ],
      "metadata": {
        "colab": {
          "base_uri": "https://localhost:8080/"
        },
        "id": "fgWCfVRYsmsZ",
        "outputId": "e7ad804b-d017-4a38-ca61-3622cc17e246"
      },
      "execution_count": null,
      "outputs": [
        {
          "output_type": "stream",
          "name": "stdout",
          "text": [
            "A empresa possui um total de 9085 m²\n",
            "A média de tamanhdo dos terrenos que a empresa possui é de 908.50 m²\n"
          ]
        }
      ]
    }
  ]
}