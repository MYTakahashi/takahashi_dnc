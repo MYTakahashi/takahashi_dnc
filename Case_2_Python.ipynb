{
  "nbformat": 4,
  "nbformat_minor": 0,
  "metadata": {
    "colab": {
      "provenance": [],
      "authorship_tag": "ABX9TyP0rWBZ4NwQFhKQVzQLsZhZ",
      "include_colab_link": true
    },
    "kernelspec": {
      "name": "python3",
      "display_name": "Python 3"
    },
    "language_info": {
      "name": "python"
    }
  },
  "cells": [
    {
      "cell_type": "markdown",
      "metadata": {
        "id": "view-in-github",
        "colab_type": "text"
      },
      "source": [
        "<a href=\"https://colab.research.google.com/github/MYTakahashi/takahashi_dnc/blob/master/Case_2_Python.ipynb\" target=\"_parent\"><img src=\"https://colab.research.google.com/assets/colab-badge.svg\" alt=\"Open In Colab\"/></a>"
      ]
    },
    {
      "cell_type": "markdown",
      "source": [
        "Questão 1 - Você recebeu um arquivo chamado usuarios_feedback, nesse arquivo contém o comentário, nome, gênero e nota de usuários referente a um produto de sua empresas. Você precisa verificar quais as palavras que mais apareceram nos comentários: usuarios_feedback = [{'nome':'Peter','nota':9,'genero':'M','comentario':'bom demais e agil'}, {'nome':'Joao','nota':10,'genero':'M','comentario':'agil e eficiente'}, {'nome':'user_not_found','nota':0,'genero':'M','comentario':'Horrível'}, {'nome':'Marta','nota':10,'genero':'F','comentario':'muito agil bom demais'}, {'nome':'Beatriz','nota':10,'genero':'F','comentario':'rápido e eficaz'}, {'nome':'user_not_found','nota':2,'genero':'M','comentario':'ruim'}, {'nome':'Jéssica','nota':10,'genero':'F','comentario':'agil'}, {'nome':'José','nota':7,'genero':'M','comentario':'ok'}, {'nome':'Elias','nota':5,'genero':'M','comentario':'precisa melhorar'}, {'nome':'Miriã','nota':9,'genero':'F','comentario':'foi muito agil e rápido'}, {'nome':'Maria','nota':10,'genero':'F','comentario':'muito bom e agil'}]"
      ],
      "metadata": {
        "id": "OCNDy5S6wwfB"
      }
    },
    {
      "cell_type": "code",
      "execution_count": null,
      "metadata": {
        "colab": {
          "base_uri": "https://localhost:8080/"
        },
        "id": "-5ueuWSrwdOm",
        "outputId": "f8e87f1e-3ab4-4010-de3c-936992551e49"
      },
      "outputs": [
        {
          "output_type": "stream",
          "name": "stdout",
          "text": [
            "rápido e eficaz\n"
          ]
        }
      ],
      "source": [
        "usuarios_feedback = [\n",
        "        {'nome':'Peter','nota':9,'genero':'M','comentario':'bom demais e agil'},\n",
        "        {'nome':'Joao','nota':10,'genero':'M','comentario':'agil e eficiente'},\n",
        "        {'nome':'user_not_found','nota':0,'genero':'M','comentario':'Horrível'},\n",
        "        {'nome':'Marta','nota':10,'genero':'F','comentario':'muito agil bom demais'},\n",
        "        {'nome':'Beatriz','nota':10,'genero':'F','comentario':'rápido e eficaz'},\n",
        "        {'nome':'user_not_found','nota':2,'genero':'M','comentario':'ruim'},\n",
        "        {'nome':'Jéssica','nota':10,'genero':'F','comentario':'agil'},\n",
        "        {'nome':'José','nota':7,'genero':'M','comentario':'ok'},\n",
        "        {'nome':'Elias','nota':5,'genero':'M','comentario':'precisa melhorar'},\n",
        "        {'nome':'Miriã','nota':9,'genero':'F','comentario':'foi muito agil e rápido'},\n",
        "        {'nome':'Maria','nota':10,'genero':'F','comentario':'muito bom e agil'}\n",
        "        ]\n",
        "\n",
        "temp = []\n",
        "for l in usuarios_feedback:\n",
        "  temp.append(l['comentario'])\n",
        "\n",
        "contagem = dict()\n",
        "for linha in temp:\n",
        "    palavra = linha.strip()\n",
        "    if palavra not in contagem.keys():\n",
        "        contagem[palavra] = 1\n",
        "    else:\n",
        "        contagem[palavra] += 1\n",
        "\n",
        "print(max(contagem))"
      ]
    },
    {
      "cell_type": "code",
      "source": [
        "def conta_palavra (x):\n",
        "  palavras = []\n",
        "  for user in x:\n",
        "    palavras.extend(user['comentario'].split())\n",
        "    uniqWords = sorted(set(palavras))\n",
        "  for word in uniqWords:\n",
        "    print(palavras.count(word),word)\n",
        "conta_palavra(usuarios_feedback)\n"
      ],
      "metadata": {
        "colab": {
          "base_uri": "https://localhost:8080/"
        },
        "id": "tEipM9lH71zo",
        "outputId": "54141268-15c9-4b77-d0f2-39398d72eb79"
      },
      "execution_count": null,
      "outputs": [
        {
          "output_type": "stream",
          "name": "stdout",
          "text": [
            "1 Horrível\n",
            "6 agil\n",
            "3 bom\n",
            "2 demais\n",
            "5 e\n",
            "1 eficaz\n",
            "1 eficiente\n",
            "1 foi\n",
            "1 melhorar\n",
            "3 muito\n",
            "1 ok\n",
            "1 precisa\n",
            "1 ruim\n",
            "2 rápido\n"
          ]
        }
      ]
    },
    {
      "cell_type": "markdown",
      "source": [
        "Questão 2 - Usando o mesmo arquivo, calcular a média das notas separadas por gênero: usuarios_feedback = [{'nome':'Peter','nota':9,'genero':'M','comentario':'bom demais e agil'}, {'nome':'Joao','nota':10,'genero':'M','comentario':'agil e eficiente'}, {'nome':'user_not_found','nota':0,'genero':'M','comentario':'Horrível'}, {'nome':'Marta','nota':10,'genero':'F','comentario':'muito agil bom demais'}, {'nome':'Beatriz','nota':10,'genero':'F','comentario':'rápido e eficaz'}, {'nome':'user_not_found','nota':2,'genero':'M','comentario':'ruim'}, {'nome':'Jéssica','nota':10,'genero':'F','comentario':'agil'}, {'nome':'José','nota':7,'genero':'M','comentario':'ok'}, {'nome':'Elias','nota':5,'genero':'M','comentario':'precisa melhorar'}, {'nome':'Miriã','nota':9,'genero':'F','comentario':'foi muito agil e rápido'}, {'nome':'Maria','nota':10,'genero':'F','comentario':'muito bom e agil'}]"
      ],
      "metadata": {
        "id": "O4eEhfOE6N_N"
      }
    },
    {
      "cell_type": "code",
      "source": [
        "def notas(x):\n",
        "  m = []\n",
        "  f = []\n",
        "\n",
        "  for a in x:\n",
        "    if a['genero'] == 'M':\n",
        "      m.append(a['nota'])\n",
        "    elif a['genero'] == 'F':\n",
        "      f.append(a['nota'])\n",
        "  print(f'A média de notas do gênero masculino foi de {sum(m)/len(m):.2f} e a média de notas do gênero feminino foi de {sum(f)/len(f):.2f}')\n",
        "  return m,f\n",
        "\n",
        "masc, fem = notas(usuarios_feedback)\n",
        "print(masc,fem)"
      ],
      "metadata": {
        "colab": {
          "base_uri": "https://localhost:8080/"
        },
        "id": "eEhzdCRk6T5P",
        "outputId": "05c769b6-ab3d-4e27-83a9-113060727e0e"
      },
      "execution_count": null,
      "outputs": [
        {
          "output_type": "stream",
          "name": "stdout",
          "text": [
            "A média de notas do gênero masculino foi de 5.50 e a média de notas do gênero feminino foi de 9.80\n",
            "[9, 10, 0, 2, 7, 5] [10, 10, 10, 9, 10]\n"
          ]
        }
      ]
    }
  ]
}